{
  "cells": [
    {
      "cell_type": "markdown",
      "source": [
        "# 🔫 Predicting Gun Involvement in Crime Events (Chicago Crime Dataset)\n",
        "\n",
        "This notebook trains and evaluates machine learning models to predict whether an ongoing crime in Chicago involves a firearm.  \n",
        "We use **temporal**, **geographic**, and **location-based** features from the **Chicago Crime Dataset** (2016–2025).  \n",
        "The task is a **binary classification** problem, comparing **Random Forest** and **Linear SVM** classifiers.\n"
      ],
      "metadata": {
        "id": "XESFPJ9ZwCwQ"
      },
      "id": "XESFPJ9ZwCwQ"
    },
    {
      "cell_type": "markdown",
      "source": [
        "## 📂 Dataset Description\n",
        "- **Source:** [Chicago Crime Dataset (2001–Present)](https://data.cityofchicago.org/Public-Safety/Crimes-2001-to-Present/ijzp-q8t2/about_data)\n",
        "- **Subset Used:** 2016–2025 crimes (~500,000 entries), balanced 50% firearm / 50% no firearm via undersampling.\n",
        "- **Features Used:**\n",
        "  - **Temporal:** Hour of day, day of week\n",
        "  - **Geographic:** Latitude, Longitude\n",
        "  - **Categorical:** Primary Type, Location Description\n",
        "- **Target Variable:** Presence of a firearm (regex on `Description` field).\n"
      ],
      "metadata": {
        "id": "P_wJ_Q-vw3VW"
      },
      "id": "P_wJ_Q-vw3VW"
    },
    {
      "cell_type": "code",
      "source": [
        "#load new data\n",
        "df = pd.read_csv('2016-2025 CrimesChicago.csv')"
      ],
      "metadata": {
        "id": "1d4bg1Nqw1US"
      },
      "id": "1d4bg1Nqw1US",
      "execution_count": null,
      "outputs": []
    },
    {
      "cell_type": "markdown",
      "source": [
        "## 🛠 Data Preprocessing Steps\n",
        "1. Extract `hour_of_day` and `day_of_week` from the Date column.\n",
        "2. Keep Latitude and Longitude as numeric features.\n",
        "3. One-hot encode categorical variables (`Primary Type`, `Location Description`).\n",
        "4. Use regex to label firearm presence in `Description`.\n",
        "5. Remove rows with missing values.\n",
        "6. Randomly undersample the majority class for a balanced dataset.\n"
      ],
      "metadata": {
        "id": "A5TRNqtpxE-D"
      },
      "id": "A5TRNqtpxE-D"
    },
    {
      "cell_type": "code",
      "execution_count": null,
      "id": "5ad2194d",
      "metadata": {
        "id": "5ad2194d",
        "outputId": "157fe9fe-19f0-440a-8912-bc9ba062fa37"
      },
      "outputs": [
        {
          "name": "stdout",
          "output_type": "stream",
          "text": [
            "              precision    recall  f1-score   support\n",
            "\n",
            "           0       0.90      0.86      0.88     45883\n",
            "           1       0.87      0.90      0.88     46283\n",
            "\n",
            "    accuracy                           0.88     92166\n",
            "   macro avg       0.88      0.88      0.88     92166\n",
            "weighted avg       0.88      0.88      0.88     92166\n",
            "\n",
            "Balanced Accuracy: 0.8818\n"
          ]
        },
        {
          "data": {
            "image/png": "[encoded data removed]",
            "text/plain": [
              "<Figure size 432x288 with 2 Axes>"
            ]
          },
          "metadata": {
            "needs_background": "light"
          },
          "output_type": "display_data"
        },
        {
          "name": "stdout",
          "output_type": "stream",
          "text": [
            "Prediction (1 = 'weapon' mentioned): 1\n"
          ]
        }
      ],
      "source": [
        "# Random forest + undersampling\n",
        "\n",
        "#random forest with undersampling ( larger dataset)\n",
        "weapon_keywords = r\"\\b(?:gun|handgun|firearm|pistol|revolver|rifle|semi-automatic|shotgun|weapon|automatic weapon|fire arms)\\b\"\n",
        "df['weapon_mentioned'] = df['Description'].str.contains(weapon_keywords, case=False, na=False, regex=True).astype(int)\n",
        "\n",
        "\n",
        "# parse date into separate features\n",
        "df['datetime'] = pd.to_datetime(df['Date'], errors='coerce')\n",
        "df['hour'] = df['datetime'].dt.hour\n",
        "df['dayofweek'] = df['datetime'].dt.dayofweek\n",
        "\n",
        "# features\n",
        "features = ['Primary Type', 'Location Description', 'Latitude', 'Longitude', 'hour', 'dayofweek']\n",
        "df = df.dropna(subset=features + ['weapon_mentioned'])  # Ensure no missing data\n",
        "X_full = df[features]\n",
        "y_full = df['weapon_mentioned']\n",
        "\n",
        "\n",
        "\n",
        "# combine X and y for resampling\n",
        "df_combined = df[features + ['weapon_mentioned']]\n",
        "\n",
        "# split by class\n",
        "df_majority = df_combined[df_combined['weapon_mentioned'] == 0]\n",
        "df_minority = df_combined[df_combined['weapon_mentioned'] == 1]\n",
        "\n",
        "# downsample majority to match minority count\n",
        "df_majority_downsampled = resample(df_majority,\n",
        "                                   replace=False,\n",
        "                                   n_samples=len(df_minority),\n",
        "                                   random_state=42)\n",
        "\n",
        "\n",
        "df_balanced = pd.concat([df_majority_downsampled, df_minority])\n",
        "df_balanced = df_balanced.sample(frac=1, random_state=42).reset_index(drop=True)\n",
        "\n",
        "#redefine features\n",
        "X = df_balanced[features]\n",
        "y = df_balanced['weapon_mentioned']\n",
        "\n",
        "\n",
        "\n",
        "# Preprocessing\n",
        "categorical_features = ['Primary Type', 'Location Description']\n",
        "numerical_features = ['Latitude', 'Longitude', 'hour', 'dayofweek']\n",
        "\n",
        "preprocessor = ColumnTransformer(\n",
        "    transformers=[\n",
        "        ('cat', OneHotEncoder(handle_unknown='ignore'), categorical_features),\n",
        "        ('num', 'passthrough', numerical_features)\n",
        "    ]\n",
        ")\n",
        "\n",
        "\n",
        "pipeline = Pipeline([\n",
        "    ('preprocessor', preprocessor),\n",
        "    ('classifier', RandomForestClassifier(n_estimators=100, random_state=42, n_jobs=-1))\n",
        "])\n",
        "\n",
        "# train and test split\n",
        "X_train, X_test, y_train, y_test = train_test_split(X, y, test_size=0.2, random_state=42)\n",
        "\n",
        "# train\n",
        "pipeline.fit(X_train, y_train)\n",
        "\n",
        "# evaluate\n",
        "y_pred = pipeline.predict(X_test)\n",
        "print(classification_report(y_test, y_pred))\n",
        "\n",
        "# balanced accuracy\n",
        "balanced_acc = balanced_accuracy_score(y_test, y_pred)\n",
        "print(f\"Balanced Accuracy: {balanced_acc:.4f}\")\n",
        "\n",
        "# confusion matrix\n",
        "cm = confusion_matrix(y_test, y_pred, labels=pipeline.classes_)\n",
        "disp = ConfusionMatrixDisplay(confusion_matrix=cm, display_labels=pipeline.classes_)\n",
        "disp.plot(cmap=plt.cm.Blues)\n",
        "plt.title(\"Confusion Matrix - Random Forest (Undersampled)\")\n",
        "plt.show()\n",
        "\n",
        "# Test example\n",
        "example = pd.DataFrame([{\n",
        "    'Primary Type': 'ASSAULT',\n",
        "    'Location Description': 'STREET',\n",
        "    'Latitude': 41.8781,\n",
        "    'Longitude': -87.6298,\n",
        "    'hour': 22,\n",
        "    'dayofweek': 0  # Monday\n",
        "}])\n",
        "\n",
        "print(\"Prediction (1 = 'weapon' mentioned):\", pipeline.predict(example)[0])"
      ]
    },
    {
      "cell_type": "code",
      "execution_count": null,
      "id": "d7a5f86e",
      "metadata": {
        "id": "d7a5f86e"
      },
      "outputs": [],
      "source": [
        "# Total samples\n",
        "print(f\"Total samples: {len(df)}\")\n",
        "\n",
        "# Distribution of target classes\n",
        "print(df['weapon_mentioned'].value_counts())\n",
        "\n",
        "# Optional: Percentages\n",
        "print(df['weapon_mentioned'].value_counts(normalize=True) * 100)"
      ]
    },
    {
      "cell_type": "code",
      "execution_count": null,
      "id": "d696fd64",
      "metadata": {
        "id": "d696fd64",
        "outputId": "10a856cc-2afc-4a64-afcd-d9903f42d5c6"
      },
      "outputs": [
        {
          "name": "stdout",
          "output_type": "stream",
          "text": [
            "No‐weapon samples: 2087747\n",
            "Weapon‐mentioned samples: 230852\n",
            "[LibLinear]iter  1 act 2.437e+05 pre 2.419e+05 delta 2.604e+00 f 3.687e+05 |g| 2.343e+05 CG   7\n",
            "iter  2 act 6.405e+03 pre 5.630e+03 delta 2.604e+00 f 1.249e+05 |g| 2.043e+04 CG  14\n",
            "iter  3 act 1.515e+03 pre 1.316e+03 delta 2.604e+00 f 1.185e+05 |g| 6.004e+03 CG  17\n",
            "iter  4 act 3.142e+02 pre 2.796e+02 delta 2.604e+00 f 1.170e+05 |g| 2.088e+03 CG  19\n",
            "iter  5 act 7.858e+01 pre 7.046e+01 delta 2.604e+00 f 1.167e+05 |g| 7.252e+02 CG  25\n",
            "iter  6 act 2.114e+01 pre 1.879e+01 delta 2.604e+00 f 1.166e+05 |g| 3.589e+02 CG  33\n",
            "iter  7 act 1.096e+01 pre 8.585e+00 delta 2.604e+00 f 1.166e+05 |g| 1.682e+02 CG  54\n",
            "iter  8 act 1.366e+01 pre 1.012e+01 delta 2.604e+00 f 1.166e+05 |g| 1.126e+02 CG  45\n",
            "cg reaches trust region boundary\n",
            "iter  9 act 1.807e+01 pre 1.612e+01 delta 2.982e+00 f 1.166e+05 |g| 5.061e+01 CG  39\n",
            "iter 10 act -8.126e+01 pre 6.865e+00 delta 5.560e-01 f 1.165e+05 |g| 7.151e+01 CG 117\n",
            "cg reaches trust region boundary\n",
            "iter 10 act 3.393e+00 pre 3.407e+00 delta 5.650e-01 f 1.165e+05 |g| 7.151e+01 CG  50\n",
            "cg reaches trust region boundary\n",
            "iter 11 act 1.346e+00 pre 1.466e+00 delta 5.650e-01 f 1.165e+05 |g| 2.730e+01 CG  51\n",
            "cg reaches trust region boundary\n",
            "iter 12 act 6.613e-01 pre 8.331e-01 delta 5.650e-01 f 1.165e+05 |g| 2.250e+01 CG  99\n",
            "\n",
            "Training took 5.37 seconds\n",
            "\n",
            "              precision    recall  f1-score   support\n",
            "\n",
            "           0       0.91      0.86      0.88     45883\n",
            "           1       0.87      0.91      0.89     46283\n",
            "\n",
            "    accuracy                           0.89     92166\n",
            "   macro avg       0.89      0.89      0.89     92166\n",
            "weighted avg       0.89      0.89      0.89     92166\n",
            "\n",
            "Balanced Accuracy: 0.8882\n"
          ]
        },
        {
          "data": {
            "image/png": "[encoded data removed]",
            "text/plain": [
              "<Figure size 432x288 with 2 Axes>"
            ]
          },
          "metadata": {
            "needs_background": "light"
          },
          "output_type": "display_data"
        }
      ],
      "source": [
        "# Linear SVM + unersampling\n",
        "import pandas as pd\n",
        "import numpy as np\n",
        "import time\n",
        "import matplotlib.pyplot as plt\n",
        "from sklearn.model_selection import train_test_split\n",
        "from sklearn.preprocessing import OneHotEncoder, StandardScaler\n",
        "from sklearn.compose import ColumnTransformer\n",
        "from sklearn.pipeline import Pipeline\n",
        "from sklearn.svm import LinearSVC\n",
        "from sklearn.metrics import classification_report, balanced_accuracy_score, confusion_matrix, ConfusionMatrixDisplay\n",
        "from sklearn.utils import resample\n",
        "\n",
        "# load data starting 2016\n",
        "df = pd.read_csv('2016-2025 CrimesChicago.csv')\n",
        "\n",
        "weapon_keywords = r\"\\b(?:gun|handgun|firearm|pistol|revolver|rifle|semi-automatic|shotgun|weapon|automatic weapon|fire arms)\\b\"\n",
        "df['weapon_mentioned'] = df['Description'].str.contains(weapon_keywords, case=False, na=False, regex=True).astype(int)\n",
        "\n",
        "# count before undersampling\n",
        "counts = df['weapon_mentioned'].value_counts()\n",
        "print(f\"No‐weapon samples: {counts.get(0,0)}\")\n",
        "print(f\"Weapon‐mentioned samples: {counts.get(1,0)}\")\n",
        "\n",
        "df['datetime'] = pd.to_datetime(df['Date'], errors='coerce')\n",
        "df['hour'] = df['datetime'].dt.hour\n",
        "df['dayofweek'] = df['datetime'].dt.dayofweek\n",
        "\n",
        "#clean data, select featutes\n",
        "features = ['Primary Type', 'Location Description', 'Latitude', 'Longitude', 'hour', 'dayofweek']\n",
        "df = df.dropna(subset=features + ['weapon_mentioned'])\n",
        "\n",
        "#undersampling ( dropping no gun samples)\n",
        "df_majority = df[df['weapon_mentioned'] == 0]\n",
        "df_minority = df[df['weapon_mentioned'] == 1]\n",
        "\n",
        "df_majority_downsampled = resample(df_majority,\n",
        "                                   replace=False,\n",
        "                                   n_samples=len(df_minority),\n",
        "                                   random_state=42)\n",
        "\n",
        "df_balanced = pd.concat([df_majority_downsampled, df_minority])\n",
        "df_balanced = df_balanced.sample(frac=1, random_state=42).reset_index(drop=True)\n",
        "\n",
        "X = df_balanced[features]\n",
        "y = df_balanced['weapon_mentioned']\n",
        "\n",
        "# preprocessing\n",
        "categorical_features = ['Primary Type', 'Location Description']\n",
        "numerical_features = ['Latitude', 'Longitude', 'hour', 'dayofweek']\n",
        "\n",
        "preprocessor = ColumnTransformer(\n",
        "    transformers=[\n",
        "        ('cat', OneHotEncoder(handle_unknown='ignore', sparse_output=False), categorical_features),\n",
        "        ('num', StandardScaler(), numerical_features)\n",
        "    ]\n",
        ")\n",
        "\n",
        "# train and test split\n",
        "X_train, X_test, y_train, y_test = train_test_split(X, y, test_size=0.2, random_state=42)\n",
        "\n",
        "\n",
        "pipeline = Pipeline([\n",
        "    ('preprocessor', preprocessor),\n",
        "    ('classifier', LinearSVC(\n",
        "        C=1.0,\n",
        "        class_weight='balanced',\n",
        "        dual=False,\n",
        "        max_iter=10000,\n",
        "        verbose=1\n",
        "    ))\n",
        "])\n",
        "\n",
        "# just to keep track of time\n",
        "start = time.time()\n",
        "pipeline.fit(X_train, y_train)\n",
        "end = time.time()\n",
        "print(f\"\\nTraining took {end - start:.2f} seconds\\n\")\n",
        "\n",
        "# evaluation\n",
        "y_pred = pipeline.predict(X_test)\n",
        "print(classification_report(y_test, y_pred))\n",
        "print(f\"Balanced Accuracy: {balanced_accuracy_score(y_test, y_pred):.4f}\")\n",
        "\n",
        "# confusion matrix\n",
        "cm = confusion_matrix(y_test, y_pred, labels=pipeline.classes_)\n",
        "disp = ConfusionMatrixDisplay(confusion_matrix=cm, display_labels=pipeline.classes_)\n",
        "disp.plot(cmap=plt.cm.Blues)\n",
        "plt.title(\"Confusion Matrix - LinearSVC + Undersampling\")\n",
        "plt.show()\n",
        "\n"
      ]
    },
    {
      "cell_type": "code",
      "execution_count": null,
      "id": "d428ca72",
      "metadata": {
        "id": "d428ca72"
      },
      "outputs": [],
      "source": []
    }
  ],
  "metadata": {
    "kernelspec": {
      "display_name": "Python 3 (ipykernel)",
      "language": "python",
      "name": "python3"
    },
    "language_info": {
      "codemirror_mode": {
        "name": "ipython",
        "version": 3
      },
      "file_extension": ".py",
      "mimetype": "text/x-python",
      "name": "python",
      "nbconvert_exporter": "python",
      "pygments_lexer": "ipython3",
      "version": "3.10.12"
    },
    "colab": {
      "provenance": []
    }
  },
  "nbformat": 4,
  "nbformat_minor": 5
}